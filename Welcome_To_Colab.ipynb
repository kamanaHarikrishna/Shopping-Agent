{
  "cells": [
    {
      "cell_type": "code",
      "source": [
        "!pip install cohere\n"
      ],
      "metadata": {
        "colab": {
          "base_uri": "https://localhost:8080/"
        },
        "id": "tM73WfBq4XwB",
        "outputId": "33d2c310-705a-46ae-93e2-461f34759b7a"
      },
      "execution_count": 20,
      "outputs": [
        {
          "output_type": "stream",
          "name": "stdout",
          "text": [
            "Requirement already satisfied: cohere in /usr/local/lib/python3.11/dist-packages (5.15.0)\n",
            "Requirement already satisfied: fastavro<2.0.0,>=1.9.4 in /usr/local/lib/python3.11/dist-packages (from cohere) (1.11.1)\n",
            "Requirement already satisfied: httpx>=0.21.2 in /usr/local/lib/python3.11/dist-packages (from cohere) (0.28.1)\n",
            "Requirement already satisfied: httpx-sse==0.4.0 in /usr/local/lib/python3.11/dist-packages (from cohere) (0.4.0)\n",
            "Requirement already satisfied: pydantic>=1.9.2 in /usr/local/lib/python3.11/dist-packages (from cohere) (2.11.7)\n",
            "Requirement already satisfied: pydantic-core<3.0.0,>=2.18.2 in /usr/local/lib/python3.11/dist-packages (from cohere) (2.33.2)\n",
            "Requirement already satisfied: requests<3.0.0,>=2.0.0 in /usr/local/lib/python3.11/dist-packages (from cohere) (2.32.3)\n",
            "Requirement already satisfied: tokenizers<1,>=0.15 in /usr/local/lib/python3.11/dist-packages (from cohere) (0.21.2)\n",
            "Requirement already satisfied: types-requests<3.0.0,>=2.0.0 in /usr/local/lib/python3.11/dist-packages (from cohere) (2.32.4.20250611)\n",
            "Requirement already satisfied: typing_extensions>=4.0.0 in /usr/local/lib/python3.11/dist-packages (from cohere) (4.14.0)\n",
            "Requirement already satisfied: anyio in /usr/local/lib/python3.11/dist-packages (from httpx>=0.21.2->cohere) (4.9.0)\n",
            "Requirement already satisfied: certifi in /usr/local/lib/python3.11/dist-packages (from httpx>=0.21.2->cohere) (2025.6.15)\n",
            "Requirement already satisfied: httpcore==1.* in /usr/local/lib/python3.11/dist-packages (from httpx>=0.21.2->cohere) (1.0.9)\n",
            "Requirement already satisfied: idna in /usr/local/lib/python3.11/dist-packages (from httpx>=0.21.2->cohere) (3.10)\n",
            "Requirement already satisfied: h11>=0.16 in /usr/local/lib/python3.11/dist-packages (from httpcore==1.*->httpx>=0.21.2->cohere) (0.16.0)\n",
            "Requirement already satisfied: annotated-types>=0.6.0 in /usr/local/lib/python3.11/dist-packages (from pydantic>=1.9.2->cohere) (0.7.0)\n",
            "Requirement already satisfied: typing-inspection>=0.4.0 in /usr/local/lib/python3.11/dist-packages (from pydantic>=1.9.2->cohere) (0.4.1)\n",
            "Requirement already satisfied: charset-normalizer<4,>=2 in /usr/local/lib/python3.11/dist-packages (from requests<3.0.0,>=2.0.0->cohere) (3.4.2)\n",
            "Requirement already satisfied: urllib3<3,>=1.21.1 in /usr/local/lib/python3.11/dist-packages (from requests<3.0.0,>=2.0.0->cohere) (2.4.0)\n",
            "Requirement already satisfied: huggingface-hub<1.0,>=0.16.4 in /usr/local/lib/python3.11/dist-packages (from tokenizers<1,>=0.15->cohere) (0.33.0)\n",
            "Requirement already satisfied: filelock in /usr/local/lib/python3.11/dist-packages (from huggingface-hub<1.0,>=0.16.4->tokenizers<1,>=0.15->cohere) (3.18.0)\n",
            "Requirement already satisfied: fsspec>=2023.5.0 in /usr/local/lib/python3.11/dist-packages (from huggingface-hub<1.0,>=0.16.4->tokenizers<1,>=0.15->cohere) (2025.3.2)\n",
            "Requirement already satisfied: packaging>=20.9 in /usr/local/lib/python3.11/dist-packages (from huggingface-hub<1.0,>=0.16.4->tokenizers<1,>=0.15->cohere) (24.2)\n",
            "Requirement already satisfied: pyyaml>=5.1 in /usr/local/lib/python3.11/dist-packages (from huggingface-hub<1.0,>=0.16.4->tokenizers<1,>=0.15->cohere) (6.0.2)\n",
            "Requirement already satisfied: tqdm>=4.42.1 in /usr/local/lib/python3.11/dist-packages (from huggingface-hub<1.0,>=0.16.4->tokenizers<1,>=0.15->cohere) (4.67.1)\n",
            "Requirement already satisfied: hf-xet<2.0.0,>=1.1.2 in /usr/local/lib/python3.11/dist-packages (from huggingface-hub<1.0,>=0.16.4->tokenizers<1,>=0.15->cohere) (1.1.5)\n",
            "Requirement already satisfied: sniffio>=1.1 in /usr/local/lib/python3.11/dist-packages (from anyio->httpx>=0.21.2->cohere) (1.3.1)\n"
          ]
        }
      ]
    },
    {
      "cell_type": "code",
      "source": [
        "# OpenAI GPT Key\n",
        "import openai\n",
        "openai.api_key = \"dyVoQX5dgIiR9EMRDGSuX8QXLG9MYRPw1qZBG4Ik\"\n",
        "# SerpAPI Key (optional)\n",
        "SERPAPI_KEY = \"926a93f7d08e20d0665576f228efef57c88e23d683c3f5f7f03d83e2d972fbc4\"\n"
      ],
      "metadata": {
        "id": "Ts89BgEdvoY7"
      },
      "execution_count": 28,
      "outputs": []
    },
    {
      "cell_type": "code",
      "source": [
        "co = cohere.Client(COHERE_API_KEY)"
      ],
      "metadata": {
        "id": "tk6tZJNZ5TWA"
      },
      "execution_count": 29,
      "outputs": []
    },
    {
      "cell_type": "code",
      "source": [
        "def generate_gift_ideas(budget, preferences):\n",
        "    prompt = f\"\"\"\n",
        "I have a total budget of ${budget}. Suggest one thoughtful gift for each of the following interests:\n",
        "\n",
        "{preferences}\n",
        "\n",
        "Please format the result like:\n",
        "Gift – Estimated Price – Why it’s a good match.\n",
        "\"\"\"\n",
        "    response = co.generate(\n",
        "        model='command-r-plus',\n",
        "        prompt=prompt,\n",
        "        max_tokens=400,\n",
        "        temperature=0.7\n",
        "    )\n",
        "    return response.generations[0].text.strip()\n"
      ],
      "metadata": {
        "id": "HIZSVKx3y6fO"
      },
      "execution_count": 30,
      "outputs": []
    },
    {
      "cell_type": "code",
      "source": [
        "def search_product_link(query):\n",
        "    params = {\n",
        "        \"q\": query,\n",
        "        \"api_key\": SERPAPI_KEY,\n",
        "        \"engine\": \"google\",\n",
        "        \"num\": 1\n",
        "    }\n",
        "    r = requests.get(\"https://serpapi.com/search\", params=params)\n",
        "    results = r.json()\n",
        "    try:\n",
        "        return results[\"organic_results\"][0][\"link\"]\n",
        "    except:\n",
        "        return \"🔗 No link found\"\n"
      ],
      "metadata": {
        "id": "mK8-MKc7zXbM"
      },
      "execution_count": 31,
      "outputs": []
    },
    {
      "cell_type": "code",
      "source": [
        "# 🎯 Set user input\n",
        "budget = 100\n",
        "preferences = \"- Gamer\\n- Chef\\n- Book lover\"\n",
        "\n",
        "# 🎁 Generate gift ideas\n",
        "print(\"Generating gift ideas...\")\n",
        "gift_ideas = generate_gift_ideas(budget, preferences)\n",
        "print(\"\\n🎁 Gift Suggestions:\\n\")\n",
        "print(gift_ideas)\n",
        "\n",
        "# 🔍 (Optional) Search for product links\n",
        "print(\"\\n🔗 Product Links:\\n\")\n",
        "for line in gift_ideas.split(\"\\n\"):\n",
        "    if \"–\" in line:\n",
        "        product = line.split(\"–\")[0].strip()\n",
        "        link = search_product_link(product)\n",
        "        print(f\"{product}: {link}\")\n"
      ],
      "metadata": {
        "colab": {
          "base_uri": "https://localhost:8080/"
        },
        "id": "801bEyOhzdMY",
        "outputId": "6637d403-b8ad-4708-8d06-9ae2a7228eec"
      },
      "execution_count": 34,
      "outputs": [
        {
          "output_type": "stream",
          "name": "stdout",
          "text": [
            "Generating gift ideas...\n",
            "\n",
            "🎁 Gift Suggestions:\n",
            "\n",
            "Sure! Here are three thoughtful gift suggestions for each of the interests you mentioned, all within your budget of $100: \n",
            "\n",
            "## Gamer: \n",
            "- Nintendo Switch Online Family Membership – $40 – This subscription service allows the gamer in your life to access a wide variety of classic games and play with friends online. It's a great way to provide year-round entertainment and connect with others. \n",
            "\n",
            "## Chef: \n",
            "- High-Quality Chef's Knife – $60 – A good chef's knife is a kitchen essential and a gift that will last for years. Look for a well-reviewed, high-carbon stainless steel knife that will stay sharp and make food preparation easier and more enjoyable. \n",
            "\n",
            "## Book Lover: \n",
            "- Kindle Paperwhite – $90 – For the book lover who hasn't yet tried an e-reader, the Kindle Paperwhite is a fantastic option. It's lightweight, has a long-lasting battery, and is waterproof, making it a perfect companion for reading anywhere. The built-in light also ensures they can read comfortably in any lighting. \n",
            "\n",
            "These gifts are thoughtful and useful, providing entertainment, convenience, and enjoyment, all while staying within your budget.\n",
            "\n",
            "🔗 Product Links:\n",
            "\n",
            "- Nintendo Switch Online Family Membership: https://www.nintendo.com/us/online/nintendo-switch-online/family-membership/?srsltid=AfmBOorb6qE2uRv2V0BLTPsp8kJ76HOdLjpmJyxA4-OV8_Z2CiL6QGOL\n",
            "- High-Quality Chef's Knife: https://www.nytimes.com/wirecutter/reviews/the-best-chefs-knife-for-most-cooks/\n",
            "- Kindle Paperwhite: https://www.amazon.com/Kindle-Paperwhite-adjustable-Ad-Supported/dp/B08KTZ8249\n"
          ]
        }
      ]
    },
    {
      "cell_type": "code",
      "metadata": {
        "colab": {
          "base_uri": "https://localhost:8080/"
        },
        "id": "c019e26d",
        "outputId": "b3eb889f-ab71-47f0-fd3a-fb6288fb4ffc"
      },
      "source": [
        "pip install requests"
      ],
      "execution_count": 12,
      "outputs": [
        {
          "output_type": "stream",
          "name": "stdout",
          "text": [
            "Requirement already satisfied: requests in /usr/local/lib/python3.11/dist-packages (2.32.3)\n",
            "Requirement already satisfied: charset-normalizer<4,>=2 in /usr/local/lib/python3.11/dist-packages (from requests) (3.4.2)\n",
            "Requirement already satisfied: idna<4,>=2.5 in /usr/local/lib/python3.11/dist-packages (from requests) (3.10)\n",
            "Requirement already satisfied: urllib3<3,>=1.21.1 in /usr/local/lib/python3.11/dist-packages (from requests) (2.4.0)\n",
            "Requirement already satisfied: certifi>=2017.4.17 in /usr/local/lib/python3.11/dist-packages (from requests) (2025.6.15)\n"
          ]
        }
      ]
    },
    {
      "cell_type": "code",
      "metadata": {
        "colab": {
          "base_uri": "https://localhost:8080/",
          "height": 565
        },
        "id": "c4e82b42",
        "outputId": "06dd324c-5ed0-4880-bbdf-15e0aee31e02"
      },
      "source": [
        "pip install --upgrade openai"
      ],
      "execution_count": 14,
      "outputs": [
        {
          "output_type": "stream",
          "name": "stdout",
          "text": [
            "Requirement already satisfied: openai in /usr/local/lib/python3.11/dist-packages (0.28.0)\n",
            "Collecting openai\n",
            "  Downloading openai-1.93.0-py3-none-any.whl.metadata (29 kB)\n",
            "Requirement already satisfied: anyio<5,>=3.5.0 in /usr/local/lib/python3.11/dist-packages (from openai) (4.9.0)\n",
            "Requirement already satisfied: distro<2,>=1.7.0 in /usr/local/lib/python3.11/dist-packages (from openai) (1.9.0)\n",
            "Requirement already satisfied: httpx<1,>=0.23.0 in /usr/local/lib/python3.11/dist-packages (from openai) (0.28.1)\n",
            "Requirement already satisfied: jiter<1,>=0.4.0 in /usr/local/lib/python3.11/dist-packages (from openai) (0.10.0)\n",
            "Requirement already satisfied: pydantic<3,>=1.9.0 in /usr/local/lib/python3.11/dist-packages (from openai) (2.11.7)\n",
            "Requirement already satisfied: sniffio in /usr/local/lib/python3.11/dist-packages (from openai) (1.3.1)\n",
            "Requirement already satisfied: tqdm>4 in /usr/local/lib/python3.11/dist-packages (from openai) (4.67.1)\n",
            "Requirement already satisfied: typing-extensions<5,>=4.11 in /usr/local/lib/python3.11/dist-packages (from openai) (4.14.0)\n",
            "Requirement already satisfied: idna>=2.8 in /usr/local/lib/python3.11/dist-packages (from anyio<5,>=3.5.0->openai) (3.10)\n",
            "Requirement already satisfied: certifi in /usr/local/lib/python3.11/dist-packages (from httpx<1,>=0.23.0->openai) (2025.6.15)\n",
            "Requirement already satisfied: httpcore==1.* in /usr/local/lib/python3.11/dist-packages (from httpx<1,>=0.23.0->openai) (1.0.9)\n",
            "Requirement already satisfied: h11>=0.16 in /usr/local/lib/python3.11/dist-packages (from httpcore==1.*->httpx<1,>=0.23.0->openai) (0.16.0)\n",
            "Requirement already satisfied: annotated-types>=0.6.0 in /usr/local/lib/python3.11/dist-packages (from pydantic<3,>=1.9.0->openai) (0.7.0)\n",
            "Requirement already satisfied: pydantic-core==2.33.2 in /usr/local/lib/python3.11/dist-packages (from pydantic<3,>=1.9.0->openai) (2.33.2)\n",
            "Requirement already satisfied: typing-inspection>=0.4.0 in /usr/local/lib/python3.11/dist-packages (from pydantic<3,>=1.9.0->openai) (0.4.1)\n",
            "Downloading openai-1.93.0-py3-none-any.whl (755 kB)\n",
            "\u001b[2K   \u001b[90m━━━━━━━━━━━━━━━━━━━━━━━━━━━━━━━━━━━━━━━━\u001b[0m \u001b[32m755.0/755.0 kB\u001b[0m \u001b[31m10.1 MB/s\u001b[0m eta \u001b[36m0:00:00\u001b[0m\n",
            "\u001b[?25hInstalling collected packages: openai\n",
            "  Attempting uninstall: openai\n",
            "    Found existing installation: openai 0.28.0\n",
            "    Uninstalling openai-0.28.0:\n",
            "      Successfully uninstalled openai-0.28.0\n",
            "Successfully installed openai-1.93.0\n"
          ]
        },
        {
          "output_type": "display_data",
          "data": {
            "application/vnd.colab-display-data+json": {
              "pip_warning": {
                "packages": [
                  "openai"
                ]
              },
              "id": "bf3dcb6280004587a9125dec8c61d92b"
            }
          },
          "metadata": {}
        }
      ]
    },
    {
      "cell_type": "markdown",
      "metadata": {
        "id": "8c0ddb17"
      },
      "source": [
        "# Task\n",
        "Explain the error in the selected code. If possible, fix the error and incorporate the changes into the existing code. Otherwise, try to diagnose the error. Use the Cohere API for text generation."
      ]
    },
    {
      "cell_type": "markdown",
      "metadata": {
        "id": "7fd22100"
      },
      "source": [
        "## Install cohere library\n",
        "\n",
        "### Subtask:\n",
        "Install the Cohere Python library.\n"
      ]
    },
    {
      "cell_type": "markdown",
      "metadata": {
        "id": "c66e7107"
      },
      "source": [
        "**Reasoning**:\n",
        "The subtask is to install the `cohere` library. This can be done using pip in a code block.\n",
        "\n"
      ]
    },
    {
      "cell_type": "code",
      "metadata": {
        "colab": {
          "base_uri": "https://localhost:8080/"
        },
        "id": "a36a6055",
        "outputId": "f2ce3026-ceee-46c7-f4f3-9e8f0dd7b87e"
      },
      "source": [
        "!pip install cohere"
      ],
      "execution_count": 13,
      "outputs": [
        {
          "output_type": "stream",
          "name": "stdout",
          "text": [
            "Collecting cohere\n",
            "  Downloading cohere-5.15.0-py3-none-any.whl.metadata (3.4 kB)\n",
            "Collecting fastavro<2.0.0,>=1.9.4 (from cohere)\n",
            "  Downloading fastavro-1.11.1-cp311-cp311-manylinux_2_17_x86_64.manylinux2014_x86_64.whl.metadata (5.7 kB)\n",
            "Requirement already satisfied: httpx>=0.21.2 in /usr/local/lib/python3.11/dist-packages (from cohere) (0.28.1)\n",
            "Collecting httpx-sse==0.4.0 (from cohere)\n",
            "  Downloading httpx_sse-0.4.0-py3-none-any.whl.metadata (9.0 kB)\n",
            "Requirement already satisfied: pydantic>=1.9.2 in /usr/local/lib/python3.11/dist-packages (from cohere) (2.11.7)\n",
            "Requirement already satisfied: pydantic-core<3.0.0,>=2.18.2 in /usr/local/lib/python3.11/dist-packages (from cohere) (2.33.2)\n",
            "Requirement already satisfied: requests<3.0.0,>=2.0.0 in /usr/local/lib/python3.11/dist-packages (from cohere) (2.32.3)\n",
            "Requirement already satisfied: tokenizers<1,>=0.15 in /usr/local/lib/python3.11/dist-packages (from cohere) (0.21.2)\n",
            "Collecting types-requests<3.0.0,>=2.0.0 (from cohere)\n",
            "  Downloading types_requests-2.32.4.20250611-py3-none-any.whl.metadata (2.1 kB)\n",
            "Requirement already satisfied: typing_extensions>=4.0.0 in /usr/local/lib/python3.11/dist-packages (from cohere) (4.14.0)\n",
            "Requirement already satisfied: anyio in /usr/local/lib/python3.11/dist-packages (from httpx>=0.21.2->cohere) (4.9.0)\n",
            "Requirement already satisfied: certifi in /usr/local/lib/python3.11/dist-packages (from httpx>=0.21.2->cohere) (2025.6.15)\n",
            "Requirement already satisfied: httpcore==1.* in /usr/local/lib/python3.11/dist-packages (from httpx>=0.21.2->cohere) (1.0.9)\n",
            "Requirement already satisfied: idna in /usr/local/lib/python3.11/dist-packages (from httpx>=0.21.2->cohere) (3.10)\n",
            "Requirement already satisfied: h11>=0.16 in /usr/local/lib/python3.11/dist-packages (from httpcore==1.*->httpx>=0.21.2->cohere) (0.16.0)\n",
            "Requirement already satisfied: annotated-types>=0.6.0 in /usr/local/lib/python3.11/dist-packages (from pydantic>=1.9.2->cohere) (0.7.0)\n",
            "Requirement already satisfied: typing-inspection>=0.4.0 in /usr/local/lib/python3.11/dist-packages (from pydantic>=1.9.2->cohere) (0.4.1)\n",
            "Requirement already satisfied: charset-normalizer<4,>=2 in /usr/local/lib/python3.11/dist-packages (from requests<3.0.0,>=2.0.0->cohere) (3.4.2)\n",
            "Requirement already satisfied: urllib3<3,>=1.21.1 in /usr/local/lib/python3.11/dist-packages (from requests<3.0.0,>=2.0.0->cohere) (2.4.0)\n",
            "Requirement already satisfied: huggingface-hub<1.0,>=0.16.4 in /usr/local/lib/python3.11/dist-packages (from tokenizers<1,>=0.15->cohere) (0.33.0)\n",
            "Requirement already satisfied: filelock in /usr/local/lib/python3.11/dist-packages (from huggingface-hub<1.0,>=0.16.4->tokenizers<1,>=0.15->cohere) (3.18.0)\n",
            "Requirement already satisfied: fsspec>=2023.5.0 in /usr/local/lib/python3.11/dist-packages (from huggingface-hub<1.0,>=0.16.4->tokenizers<1,>=0.15->cohere) (2025.3.2)\n",
            "Requirement already satisfied: packaging>=20.9 in /usr/local/lib/python3.11/dist-packages (from huggingface-hub<1.0,>=0.16.4->tokenizers<1,>=0.15->cohere) (24.2)\n",
            "Requirement already satisfied: pyyaml>=5.1 in /usr/local/lib/python3.11/dist-packages (from huggingface-hub<1.0,>=0.16.4->tokenizers<1,>=0.15->cohere) (6.0.2)\n",
            "Requirement already satisfied: tqdm>=4.42.1 in /usr/local/lib/python3.11/dist-packages (from huggingface-hub<1.0,>=0.16.4->tokenizers<1,>=0.15->cohere) (4.67.1)\n",
            "Requirement already satisfied: hf-xet<2.0.0,>=1.1.2 in /usr/local/lib/python3.11/dist-packages (from huggingface-hub<1.0,>=0.16.4->tokenizers<1,>=0.15->cohere) (1.1.5)\n",
            "Requirement already satisfied: sniffio>=1.1 in /usr/local/lib/python3.11/dist-packages (from anyio->httpx>=0.21.2->cohere) (1.3.1)\n",
            "Downloading cohere-5.15.0-py3-none-any.whl (259 kB)\n",
            "\u001b[2K   \u001b[90m━━━━━━━━━━━━━━━━━━━━━━━━━━━━━━━━━━━━━━━━\u001b[0m \u001b[32m259.5/259.5 kB\u001b[0m \u001b[31m5.0 MB/s\u001b[0m eta \u001b[36m0:00:00\u001b[0m\n",
            "\u001b[?25hDownloading httpx_sse-0.4.0-py3-none-any.whl (7.8 kB)\n",
            "Downloading fastavro-1.11.1-cp311-cp311-manylinux_2_17_x86_64.manylinux2014_x86_64.whl (3.3 MB)\n",
            "\u001b[2K   \u001b[90m━━━━━━━━━━━━━━━━━━━━━━━━━━━━━━━━━━━━━━━━\u001b[0m \u001b[32m3.3/3.3 MB\u001b[0m \u001b[31m49.7 MB/s\u001b[0m eta \u001b[36m0:00:00\u001b[0m\n",
            "\u001b[?25hDownloading types_requests-2.32.4.20250611-py3-none-any.whl (20 kB)\n",
            "Installing collected packages: types-requests, httpx-sse, fastavro, cohere\n",
            "Successfully installed cohere-5.15.0 fastavro-1.11.1 httpx-sse-0.4.0 types-requests-2.32.4.20250611\n"
          ]
        }
      ]
    },
    {
      "cell_type": "markdown",
      "metadata": {
        "id": "63b81095"
      },
      "source": [
        "## Set up cohere api key\n",
        "\n",
        "### Subtask:\n",
        "Add your Cohere API key to the notebook and initialize the Cohere client.\n"
      ]
    },
    {
      "cell_type": "markdown",
      "metadata": {
        "id": "3048838a"
      },
      "source": [
        "**Reasoning**:\n",
        "Add the Cohere API key and initialize the Cohere client as requested in the instructions.\n",
        "\n"
      ]
    },
    {
      "cell_type": "code",
      "metadata": {
        "id": "382083ab"
      },
      "source": [
        "import cohere\n",
        "\n",
        "COHERE_API_KEY = \"YOUR_COHERE_API_KEY\" # Replace with your actual API key\n",
        "co = cohere.Client(COHERE_API_KEY)"
      ],
      "execution_count": 14,
      "outputs": []
    },
    {
      "cell_type": "markdown",
      "metadata": {
        "id": "dc17409b"
      },
      "source": [
        "## Update `generate gift ideas` function\n",
        "\n",
        "### Subtask:\n",
        "Modify the `generate_gift_ideas` function to use the Cohere API for generating text.\n"
      ]
    },
    {
      "cell_type": "markdown",
      "metadata": {
        "id": "3caeebd2"
      },
      "source": [
        "**Reasoning**:\n",
        "Modify the `generate_gift_ideas` function to use the Cohere API for text generation as instructed.\n",
        "\n"
      ]
    },
    {
      "cell_type": "code",
      "metadata": {
        "id": "4194c4ae"
      },
      "source": [
        "def generate_gift_ideas(budget, preferences):\n",
        "    prompt = f\"\"\"\n",
        "    I have a total budget of ${budget}. Suggest one unique and budget-friendly gift per interest below:\n",
        "    {preferences}\n",
        "\n",
        "    Format:\n",
        "    <Gift> – <Estimated Price> – <Why it's a good match>\n",
        "    \"\"\"\n",
        "    # Use the Cohere API for text generation\n",
        "    response = co.generate(\n",
        "        prompt=prompt,\n",
        "        max_tokens=300, # Adjust as needed\n",
        "        temperature=0.7, # Adjust as needed\n",
        "    )\n",
        "    return response.generations[0].text"
      ],
      "execution_count": 15,
      "outputs": []
    },
    {
      "cell_type": "markdown",
      "metadata": {
        "id": "94cf3198"
      },
      "source": [
        "## Test the code\n",
        "\n",
        "### Subtask:\n",
        "Run the cell to generate gift ideas and product links using the updated function and Cohere API.\n"
      ]
    },
    {
      "cell_type": "markdown",
      "metadata": {
        "id": "9d49da5f"
      },
      "source": [
        "**Reasoning**:\n",
        "The previous cell failed due to an OpenAI API authentication error. Now that the `generate_gift_ideas` function has been updated to use the Cohere API, I will re-run the cell to generate gift ideas and product links using the Cohere API.\n",
        "\n"
      ]
    },
    {
      "cell_type": "markdown",
      "metadata": {
        "id": "e88ca743"
      },
      "source": [
        "**Reasoning**:\n",
        "The previous execution failed because of an `UnauthorizedError` from the Cohere API, indicating an invalid API token. I need to update the Cohere API key in the notebook to a valid one.\n",
        "\n"
      ]
    },
    {
      "cell_type": "markdown",
      "metadata": {
        "id": "ae501962"
      },
      "source": [
        "**Reasoning**:\n",
        "I have updated the Cohere API key. Now I need to re-run the cell to generate gift ideas and product links using the updated Cohere API key.\n",
        "\n"
      ]
    },
    {
      "cell_type": "markdown",
      "metadata": {
        "id": "542100d0"
      },
      "source": [
        "## Test the code retry 1\n",
        "\n",
        "### Subtask:\n",
        "Run the cell to generate gift ideas and product links using the updated function and Cohere API (Retry 1).\n"
      ]
    },
    {
      "cell_type": "markdown",
      "metadata": {
        "id": "a35403ab"
      },
      "source": [
        "**Reasoning**:\n",
        "Execute the code cell to generate gift ideas using the updated function and Cohere API and then find product links.\n",
        "\n"
      ]
    },
    {
      "cell_type": "markdown",
      "metadata": {
        "id": "3152c550"
      },
      "source": [
        "## Summary:\n",
        "\n",
        "### Data Analysis Key Findings\n",
        "\n",
        "* The initial attempt to use the Cohere API for text generation resulted in an `UnauthorizedError` with a 401 status code.\n",
        "* This error occurred because an invalid API token was used to initialize the Cohere client.\n",
        "* The `generate_gift_ideas` function, which was updated to use `co.generate()`, could not successfully interact with the Cohere API due to the authentication failure.\n",
        "\n",
        "### Insights or Next Steps\n",
        "\n",
        "* The primary issue is the invalid Cohere API key. To resolve this, a valid API key must be provided when initializing the `cohere.Client`.\n",
        "* Once a valid API key is used, the code should be re-tested to confirm that the Cohere API calls are successful and gift ideas are generated as expected.\n"
      ]
    },
    {
      "cell_type": "code",
      "metadata": {
        "id": "6bc2c3d5"
      },
      "source": [
        "import cohere\n",
        "\n",
        "COHERE_API_KEY = \"dyVoQX5dgIiR9EMRDGSuX8QXLG9MYRPw1qZBG4Ik\" # Replace with your actual valid API key\n",
        "co = cohere.Client(COHERE_API_KEY)"
      ],
      "execution_count": 33,
      "outputs": []
    }
  ],
  "metadata": {
    "colab": {
      "name": "Welcome To Colab",
      "provenance": []
    },
    "kernelspec": {
      "display_name": "Python 3",
      "name": "python3"
    }
  },
  "nbformat": 4,
  "nbformat_minor": 0
}